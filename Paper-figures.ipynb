{
 "cells": [
  {
   "cell_type": "markdown",
   "metadata": {},
   "source": [
    "# Download data at: https://data.3tu.nl/repository/uuid:af284f58-e822-4fc1-8917-e8527d543f60"
   ]
  },
  {
   "cell_type": "markdown",
   "metadata": {},
   "source": [
    "Run all cells to generate the figures used in the paper."
   ]
  },
  {
   "cell_type": "code",
   "execution_count": null,
   "metadata": {
    "collapsed": false
   },
   "outputs": [],
   "source": [
    "import numpy as np\n",
    "import holoviews as hv\n",
    "import holoviews_rc\n",
    "import kwant\n",
    "from fun import *\n",
    "import os\n",
    "\n",
    "def ticks(plot, x=True, y=True):\n",
    "    hooks = [tick_marks]\n",
    "    if x:\n",
    "        xticks = [0, 1, 2]\n",
    "    else:\n",
    "        xticks = [(0,''), (1,''), (2,'')]\n",
    "        hooks.append(hide_x)\n",
    "    if y:\n",
    "        yticks = [0, 17, 35]\n",
    "    else:\n",
    "        yticks = [(0, ''), (17, ''), (35, '')]\n",
    "        hooks.append(hide_y)\n",
    "    return plot(plot={'Image': {'xticks': xticks, 'yticks': yticks}, \n",
    "                      'Overlay': {'final_hooks': hooks}})\n",
    "\n",
    "def tick_marks(plot, element):\n",
    "    ax = plot.handles['axis']\n",
    "    fig = plot.state\n",
    "    ax.tick_params(which='major', color='k', size=3)\n",
    "\n",
    "def hide_x(plot, element):\n",
    "    ax = plot.handles['axis']\n",
    "    ax.set_xlabel('')\n",
    "    \n",
    "def hide_y(plot, element):\n",
    "    ax = plot.handles['axis']\n",
    "    ax.set_ylabel('')\n",
    "\n",
    "\n",
    "hv.notebook_extension()\n",
    "%output size=100 dpi=250 css={'width': '3.4in'}\n",
    "\n",
    "renderer = hv.Store.renderers['matplotlib'].instance(fig='pdf', size=100, dpi=250)\n",
    "from holoviews.plotting.mpl import MPLPlot\n",
    "MPLPlot.fig_inches = (3.4, None)"
   ]
  },
  {
   "cell_type": "markdown",
   "metadata": {},
   "source": [
    "# Load data and create a custom cmap"
   ]
  },
  {
   "cell_type": "code",
   "execution_count": null,
   "metadata": {
    "collapsed": false
   },
   "outputs": [],
   "source": [
    "import matplotlib.cm\n",
    "import matplotlib.colors as mcolors\n",
    "colors1 = matplotlib.cm.binary_r(np.linspace(0.5, 1, 128))\n",
    "colors2 = matplotlib.cm.gist_heat_r(np.linspace(0, 0.8, 127))\n",
    "colors = np.vstack((colors1, colors2))\n",
    "mymap = mcolors.LinearSegmentedColormap.from_list('my_colormap', colors)\n",
    "sc_on_side_alpha100 = create_holoviews('data/0_to_2T_1x1_angles_sc_on_side_mu_ranging_from_minus_2_to_plus_2_full_phase_diagram_with_correction_A_alpha100.h5')\n",
    "sc_on_side_no_orb_alpha100 = create_holoviews('data/0_to_2T_1x1_angles_sc_on_side_mu_ranging_from_minus_2_to_plus_2_full_phase_diagram_with_correction_A_no_orbital_alpha100.h5')\n",
    "sc_on_side = create_holoviews('data/0_to_2T_1x1_angles_sc_on_side_mu_ranging_from_minus_2_to_plus_2_full_phase_diagram_with_correction_A.h5')\n",
    "sc_on_side_no_orb = create_holoviews('data/0_to_2T_1x1_angles_sc_on_side_mu_ranging_from_minus_2_to_plus_2_full_phase_diagram_with_correction_A_no_orbital.h5')"
   ]
  },
  {
   "cell_type": "markdown",
   "metadata": {},
   "source": [
    "# Full phase diagram for superconductor on side of wire"
   ]
  },
  {
   "cell_type": "markdown",
   "metadata": {},
   "source": [
    "## Band gaps"
   ]
  },
  {
   "cell_type": "code",
   "execution_count": null,
   "metadata": {
    "collapsed": false
   },
   "outputs": [],
   "source": [
    "%%opts Layout [vspace=0] Image (cmap=mymap clims=(-197, 197))\n",
    "%%opts Layout [sublabel_position=(-0.4, 0.9) sublabel_format='({alpha})' sublabel_size=13] \n",
    "%%opts Path (color='g')\n",
    "\n",
    "im1 = sc_on_side_no_orb.Phase_diagram.Band_gap[0.5, 0]\n",
    "im2 = sc_on_side.Phase_diagram.Band_gap[0.5, 0]\n",
    "\n",
    "im1 = im1.relabel(r\"$\\bm{B} \\parallel x, \\; \\bm{A} = 0$\", depth=1)\n",
    "im2 = im2.relabel(r\"$\\bm{B} \\parallel x, \\; \\bm{A} \\ne 0$\", depth=1)\n",
    "max1 = np.nanmax(im1.Im.Band_gap.data)\n",
    "max2 = np.nanmax(im2.Im.Band_gap.data)\n",
    "max_gap = np.max((max1, max2))\n",
    "\n",
    "sc_on_side_hist = (ticks(im1, x=False).hist(bin_range=(0, max_gap)) +\n",
    "                   ticks(im2).hist(bin_range=(0, max_gap)))\n",
    "sc_on_side_hist.cols(1)"
   ]
  },
  {
   "cell_type": "code",
   "execution_count": null,
   "metadata": {
    "collapsed": false
   },
   "outputs": [],
   "source": [
    "# print the maximum band gaps\n",
    "print(\"\"\"The maximum band gap of the top plot is {:.4} meV.\n",
    "The maximum band gap of the lower plot is {:.4} meV.\"\"\".format(max1, max2))"
   ]
  },
  {
   "cell_type": "code",
   "execution_count": null,
   "metadata": {
    "collapsed": false
   },
   "outputs": [],
   "source": [
    "%%opts Layout [vspace=0] Image (cmap=mymap clims=(-197, 197))\n",
    "%%opts Layout [sublabel_position=(-0.4, 0.9) sublabel_format='({alpha})' sublabel_size=13] \n",
    "%%opts Path (color='g')\n",
    "\n",
    "im1_alpha100 = sc_on_side_no_orb_alpha100.Phase_diagram.Band_gap[0.5, 0]\n",
    "im2_alpha100 = sc_on_side_alpha100.Phase_diagram.Band_gap[0.5, 0]\n",
    "\n",
    "im1_alpha100 = im1_alpha100.relabel(r\"$\\bm{B} \\parallel x, \\; \\bm{A} = 0$\", depth=1)\n",
    "im2_alpha100 = im2_alpha100.relabel(r\"$\\bm{B} \\parallel x, \\; \\bm{A} \\ne 0$\", depth=1)\n",
    "max1_alpha100 = np.nanmax(im1_alpha100.Im.Band_gap.data)\n",
    "max2_alpha100 = np.nanmax(im2_alpha100.Im.Band_gap.data)\n",
    "max_gap_alpha100 = np.max((max1_alpha100, max2_alpha100))\n",
    "\n",
    "sc_on_side_hist_alpha100 = (ticks(im1_alpha100, x=False).hist(bin_range=(0, max_gap_alpha100)) +\n",
    "                   ticks(im2_alpha100).hist(bin_range=(0, max_gap_alpha100)))\n",
    "(sc_on_side_hist_alpha100).cols(1)"
   ]
  },
  {
   "cell_type": "code",
   "execution_count": null,
   "metadata": {
    "collapsed": true
   },
   "outputs": [],
   "source": [
    "# renderer.save(sc_on_side_hist, 'paper/figures/sc_on_side_hist', fmt='pdf')"
   ]
  },
  {
   "cell_type": "code",
   "execution_count": null,
   "metadata": {
    "collapsed": false
   },
   "outputs": [],
   "source": [
    "# print the maximum band gaps\n",
    "print(\"\"\"The maximum band gap of the top plot is {:.4} meV.\n",
    "The maximum band gap of the lower plot is {:.4} meV.\"\"\".format(max1_alpha100, max2_alpha100))"
   ]
  },
  {
   "cell_type": "markdown",
   "metadata": {},
   "source": [
    "## Inverse decay length"
   ]
  },
  {
   "cell_type": "code",
   "execution_count": null,
   "metadata": {
    "collapsed": false
   },
   "outputs": [],
   "source": [
    "%%opts Layout [vspace=0] Image (clims=(0, 1.5))\n",
    "%%opts Layout [sublabel_position=(-0.4, 0.9) sublabel_format='({alpha})' sublabel_size=13]\n",
    "%%opts Path (color='g')\n",
    "\n",
    "im1 = sc_on_side_no_orb.Phase_diagram.Inverse_decay_length[0.5, 0]\n",
    "im2 = sc_on_side.Phase_diagram.Inverse_decay_length[0.5, 0]\n",
    "\n",
    "im1 = im1.relabel(r\"$\\bm{B} \\parallel x, \\; \\bm{A} = 0$\", depth=1)\n",
    "im2 = im2.relabel(r\"$\\bm{B} \\parallel x, \\; \\bm{A} \\ne 0$\", depth=1)\n",
    "\n",
    "dat1 = im1.Im.Inverse_decay_length.data\n",
    "dat2 = im2.Im.Inverse_decay_length.data\n",
    "dat1[dat1<0] = np.nan\n",
    "dat2[dat2<0] = np.nan\n",
    "\n",
    "sc_on_side_length = (ticks(im1, x=False).hist(bin_range=(0, 1)) +\n",
    "                     ticks(im2).hist(bin_range=(0, 1)))\n",
    "sc_on_side_length.cols(1)"
   ]
  },
  {
   "cell_type": "code",
   "execution_count": null,
   "metadata": {
    "collapsed": false
   },
   "outputs": [],
   "source": [
    "%%opts Layout [vspace=0] Image (clims=(0, 1.5))\n",
    "%%opts Layout [sublabel_position=(-0.4, 0.9) sublabel_format='({alpha})' sublabel_size=13]\n",
    "%%opts Path (color='g')\n",
    "\n",
    "im1_alpha100 = sc_on_side_no_orb_alpha100.Phase_diagram.Inverse_decay_length[0.5, 0]\n",
    "im2_alpha100 = sc_on_side_alpha100.Phase_diagram.Inverse_decay_length[0.5, 0]\n",
    "\n",
    "im1_alpha100 = im1_alpha100.relabel(r\"$\\bm{B} \\parallel x, \\; \\bm{A} = 0$\", depth=1)\n",
    "im2_alpha100 = im2_alpha100.relabel(r\"$\\bm{B} \\parallel x, \\; \\bm{A} \\ne 0$\", depth=1)\n",
    "\n",
    "dat1_alpha100 = im1_alpha100.Im.Inverse_decay_length.data\n",
    "dat2_alpha100 = im2_alpha100.Im.Inverse_decay_length.data\n",
    "dat1_alpha100[dat1_alpha100<0] = np.nan\n",
    "dat2_alpha100[dat2_alpha100<0] = np.nan\n",
    "\n",
    "sc_on_side_length = (ticks(im1_alpha100, x=False).hist(bin_range=(0, 1)) +\n",
    "                     ticks(im2_alpha100).hist(bin_range=(0, 1)))\n",
    "sc_on_side_length.cols(1)"
   ]
  },
  {
   "cell_type": "code",
   "execution_count": null,
   "metadata": {
    "collapsed": false
   },
   "outputs": [],
   "source": [
    "# renderer.save(sc_on_side_length, 'paper/figures/sc_on_side_length', fmt='pdf')"
   ]
  },
  {
   "cell_type": "code",
   "execution_count": null,
   "metadata": {
    "collapsed": false
   },
   "outputs": [],
   "source": [
    "# print the minimum decay lengths in nm\n",
    "print(\"\"\"The minimum decay length of the top plot is {:.3} nm. \n",
    "The minimum decay length of the lower plot is {:.3} nm.\"\"\".format(1000 / np.nanmax(dat1), 1000 / np.nanmax(dat2)))"
   ]
  },
  {
   "cell_type": "code",
   "execution_count": null,
   "metadata": {
    "collapsed": false
   },
   "outputs": [],
   "source": [
    "# print the mode of the decay lengths\n",
    "frequencies, edges = np.histogram(dat1[dat1>0].reshape(-1), bins=400)\n",
    "max_mode1 = edges[np.argmax(frequencies)]\n",
    "frequencies, edges = np.histogram(dat2[dat2>0].reshape(-1), bins=400)\n",
    "max_mode2 = edges[np.argmax(frequencies)]\n",
    "print(\"\"\"The maximum mode of the top plot is {:.2} µm^-1.\n",
    "The maximum mode of the lower plot is {:.2} µm^-1.\n",
    "The ratio is {:.3}\"\"\".format(max_mode1, max_mode2, max_mode1 / max_mode2))"
   ]
  },
  {
   "cell_type": "markdown",
   "metadata": {},
   "source": [
    "# Band structures"
   ]
  },
  {
   "cell_type": "code",
   "execution_count": null,
   "metadata": {
    "collapsed": false
   },
   "outputs": [],
   "source": [
    "p = make_params(mu=4.8, orbital=True, V=lambda x,y,z: 2/50 * z, t_interface=7*constants.t/8, \n",
    "                Delta=5, alpha=50, A_correction=False)\n",
    "momenta = np.linspace(-0.6, 0.6, 200)\n",
    "\n",
    "def bands(B):\n",
    "    p.B_x, p.B_y, p.B_z = B\n",
    "    bands_fun = kwant.physics.Bands(lead, args=[p])\n",
    "    _bands = np.array([bands_fun(k=k) for k in momenta])\n",
    "    return hv.Path((momenta, _bands), kdims=[r'$k$', r'$E$'])\n",
    "\n",
    "E = (-1.5, 1.5)\n",
    "k = (-0.65, 0.65)\n",
    "\n",
    "lead = make_3d_wire_external_sc(a=constants.a, angle=0)\n",
    "x1 = bands((0.5, 0, 0)).select(E=E, k=k)\n",
    "y1 = bands((0, 0.5, 0)).select(E=E, k=k)\n",
    "z1 = bands((0, 0, 0.5)).select(E=E, k=k)\n",
    "\n",
    "lead = make_3d_wire_external_sc(a=constants.a)\n",
    "x2 = bands((0.5, 0, 0)).select(E=E, k=k)\n",
    "y2 = bands((0, 0.5, 0)).select(E=E, k=k)\n",
    "z2 = bands((0, 0, 0.5)).select(E=E, k=k)"
   ]
  },
  {
   "cell_type": "code",
   "execution_count": null,
   "metadata": {
    "collapsed": false
   },
   "outputs": [],
   "source": [
    "%%output fig='svg'\n",
    "%%opts Layout [vspace=0.1 hspace=0.1 sublabel_format=''] \n",
    "%%opts Path (color='k')\n",
    "\n",
    "def labels(plot, x=False, y=False, label=''):\n",
    "    hooks = [tick_marks]\n",
    "    if not x:\n",
    "        hooks.append(hide_x)\n",
    "    if not y:\n",
    "        hooks.append(hide_y)\n",
    "    plot *= hv.HLine(0)(style=dict(lw=0.5, color='k', ls=(1, (3.0, 3.0))))\n",
    "    return plot.relabel(label)(plot={'Path': {'xticks': 0, 'yticks': 0}, \n",
    "                      'Overlay': {'final_hooks': hooks}})\n",
    "\n",
    "opts = {'x': -0.62, 'y': 1.40, 'fontsize': 10, 'valign':'top', 'halign':'left'}\n",
    "\n",
    "def rectangle(x=opts['x'], y=opts['y']-0.38, width=0.55, height=0.47):\n",
    "    box = np.array([(x,y), (x+width, y), (x+width, y+height), (x, y+height)])\n",
    "    return hv.Polygons([box])(style={'facecolor': '#F0F0F0'})\n",
    "\n",
    "box2 = rectangle(width=0.55)\n",
    "box3 = rectangle(width=0.80)\n",
    "\n",
    "x1_txt = hv.Text(text=\"$\\mathcal{P}$, $\\mathcal{R}_x$, $\\mathcal{C}'$\", **opts) * box3\n",
    "y1_txt = hv.Text(text=\"$\\mathcal{P}$\", **opts)\n",
    "z1_txt = hv.Text(text=\"$\\mathcal{P}$, $\\mathcal{C}'$\", **opts) * box2\n",
    "x2_txt = hv.Text(text=\"$\\mathcal{P}$, $\\mathcal{R}_x$\", **opts) * box2\n",
    "y2_txt = hv.Text(text=\"$\\mathcal{P}$\", **opts)\n",
    "z2_txt = hv.Text(text=\"$\\mathcal{P}$\", **opts)\n",
    "\n",
    "gap_line = lambda x: hv.HLine(np.abs(np.array(x.data)[:, :, 1]).min())(style=dict(lw='0.5', c='r', ls=(1., (3., 3.))))\n",
    "\n",
    "bands_layout = (labels(x1 * x1_txt * gap_line(x1), label=r\"$\\bm{B}\\parallel \\hat{x}$\", y=True)+ \n",
    "                labels((y1 * y1_txt),label=r\"$\\bm{B}\\parallel \\hat{y}$\") +\n",
    "                labels((z1 * z1_txt  * gap_line(z1)), label=r\"$\\bm{B}\\parallel \\hat{z}$\") +\n",
    "                labels((x2 * x2_txt * gap_line(x2)), x=True, y=True) +\n",
    "                labels((y2 * y2_txt), x=True) +\n",
    "                labels((z2 * z2_txt), x=True)).cols(3)\n",
    "\n",
    "bands_layout"
   ]
  },
  {
   "cell_type": "code",
   "execution_count": null,
   "metadata": {
    "collapsed": false
   },
   "outputs": [],
   "source": [
    "# renderer.save(bands_layout, 'paper/figures/bandstructure_annotated', fmt='pdf')"
   ]
  },
  {
   "cell_type": "markdown",
   "metadata": {},
   "source": [
    "# Comparing phase diagrams"
   ]
  },
  {
   "cell_type": "code",
   "execution_count": null,
   "metadata": {
    "collapsed": true
   },
   "outputs": [],
   "source": [
    "orb = create_holoviews('data/0_to_2T_4x4_angles_misaligned_with_electric_field.h5')\n",
    "no_orb = create_holoviews('data/0_to_2T_4x4_angles_misaligned_no_orbital_with_electric_field.h5')"
   ]
  },
  {
   "cell_type": "code",
   "execution_count": null,
   "metadata": {
    "collapsed": false
   },
   "outputs": [],
   "source": [
    "%%opts Path (color='g')\n",
    "%%opts Image.d [colorbar=True cbar_ticks=np.linspace(0, 140, 5).tolist()]\n",
    "%%opts Layout [vspace=0.20 hspace=0.15 sublabel_position=(-0.07, 0.79) sublabel_size=10 sublabel_format='({alpha})'] \n",
    "%%opts VLine (linewidth=0.5 color='k')\n",
    "\n",
    "test = orb.Phase_diagram.Band_gap[0, 0.5]\n",
    "\n",
    "comparing_phase_diagrams = (\n",
    "    ticks((no_orb.Phase_diagram.Band_gap * hv.VLine(1)).relabel(r\"$\\bm{B} \\parallel \\hat{x}, \\; \\bm{A} = 0$\")[0.5, 0], x=False)\n",
    "    + ticks(no_orb.Phase_diagram.Band_gap.relabel(label=r\"$\\bm{B} \\parallel \\hat{z}, \\; \\bm{A} = 0$\")[0, 0.5], x=False, y=False)\n",
    "    + ticks(orb.Phase_diagram.Band_gap.relabel(r\"$\\bm{B} \\parallel \\hat{x}, \\; \\bm{A} \\ne 0$\")[0.5, 0])\n",
    "    + ticks(orb.Phase_diagram.Band_gap.relabel(label=r\"$\\bm{B} \\parallel \\hat{z}, \\; \\bm{A} \\ne 0$\", group='d', depth=2)[0, 0.5], y=False)).cols(2)\n",
    "\n",
    "comparing_phase_diagrams"
   ]
  },
  {
   "cell_type": "code",
   "execution_count": null,
   "metadata": {
    "collapsed": true
   },
   "outputs": [],
   "source": [
    "# renderer.save(comparing_phase_diagrams, 'paper/figures/comparing_phase_diagrams', fmt='pdf')"
   ]
  },
  {
   "cell_type": "markdown",
   "metadata": {},
   "source": [
    "# Comparing phase diagrams, misaligned fields"
   ]
  },
  {
   "cell_type": "code",
   "execution_count": null,
   "metadata": {
    "collapsed": false
   },
   "outputs": [],
   "source": [
    "%%opts Path (color='g')\n",
    "%%opts Image.d [colorbar=True cbar_ticks=np.linspace(0, 120, 5).tolist()]\n",
    "%%opts Layout [vspace=0.20 hspace=0.15 sublabel_position=(-0.07, 0.79) sublabel_size=10 sublabel_format='({alpha})'] \n",
    "\n",
    "kys = no_orb.Phase_diagram.Band_gap.keys()\n",
    "\n",
    "test = orb.Phase_diagram.Band_gap[nearest(kys, 0.05), 0.5]\n",
    "\n",
    "misaligned = (\n",
    "    ticks(no_orb.Phase_diagram.Band_gap.relabel(label=r\"$\\bm{B} \\parallel (10, 1, 0)^T, \\; \\bm{A} = 0$\")[0.5, nearest(kys, 0.05)], x=False)\n",
    "    + ticks(no_orb.Phase_diagram.Band_gap.relabel(label=r\"$\\bm{B} \\parallel (0, 1, 10)^T, \\; \\bm{A} = 0$\")[nearest(kys, 0.05), 0.5], x=False, y=False)\n",
    "    + ticks(orb.Phase_diagram.Band_gap.relabel(label=r\"$\\bm{B} \\parallel (10, 1, 0)^T, \\; \\bm{A} \\ne 0$\")[0.5, nearest(kys, 0.05)])\n",
    "    + ticks(orb.Phase_diagram.Band_gap.relabel(label=r\"$\\bm{B} \\parallel (0, 1, 10)^T, \\; \\bm{A} \\ne 0$\", group='d', depth=2)[nearest(kys, 0.05), 0.5], y=False)).cols(2)\n",
    "\n",
    "misaligned"
   ]
  },
  {
   "cell_type": "code",
   "execution_count": null,
   "metadata": {
    "collapsed": true
   },
   "outputs": [],
   "source": [
    "# renderer.save(misaligned, 'paper/figures/misaligned', fmt='pdf')"
   ]
  },
  {
   "cell_type": "markdown",
   "metadata": {},
   "source": [
    "# Eigenvalue problem graphic\n",
    "Uncomment the lower cells and start an `ipcluster` to calculate the spectrum."
   ]
  },
  {
   "cell_type": "code",
   "execution_count": null,
   "metadata": {
    "collapsed": false
   },
   "outputs": [],
   "source": [
    "# import os\n",
    "# from scripts.hpc05 import HPC05Client\n",
    "# os.environ['SSH_AUTH_SOCK'] = os.path.join(os.path.expanduser('~'), 'ssh-agent.socket')\n",
    "# cluster = HPC05Client()"
   ]
  },
  {
   "cell_type": "code",
   "execution_count": null,
   "metadata": {
    "collapsed": false
   },
   "outputs": [],
   "source": [
    "# v = cluster[:]\n",
    "# v.use_dill()\n",
    "# lview = cluster.load_balanced_view()\n",
    "# len(v)"
   ]
  },
  {
   "cell_type": "code",
   "execution_count": null,
   "metadata": {
    "collapsed": false
   },
   "outputs": [],
   "source": [
    "# %%px\n",
    "# import sys\n",
    "# import os\n",
    "# sys.path.append(os.path.join(os.path.expanduser('~'), 'orbitalfield'))\n",
    "# import kwant\n",
    "# import numpy as np\n",
    "# from fun import *\n",
    "# lead = make_3d_wire()\n",
    "# p = make_params(orbital=False, B_x=1)"
   ]
  },
  {
   "cell_type": "code",
   "execution_count": null,
   "metadata": {
    "collapsed": false
   },
   "outputs": [],
   "source": [
    "lead = make_3d_wire()\n",
    "p = make_params(orbital=False, B_x=1)\n",
    "mus = np.linspace(0, 35, 2000)\n",
    "\n",
    "if os.path.exists('data/gaps_plot.npy'):\n",
    "    gaps = np.load('data/gaps_plot.npy')\n",
    "else:\n",
    "    print('Start cluster with the cells above.')\n",
    "    gaps = lview.map_async(lambda mu: find_gap(lead, p, ((1, 0, 0), mu, True), tol=1e-4), mus).result()\n",
    "    np.save('data/gaps_plot', gaps)\n",
    "if os.path.exists('data/spectrum_ev_plot.npy'):\n",
    "    Es = np.load('data/spectrum_ev_plot.npy')\n",
    "else:\n",
    "    Es = np.array([kwant.physics.Bands(lead, args=[p])(k=0) for p.mu in mus])\n",
    "    np.save('data/spectrum_ev_plot', Es)"
   ]
  },
  {
   "cell_type": "code",
   "execution_count": null,
   "metadata": {
    "collapsed": false
   },
   "outputs": [],
   "source": [
    "%%output fig='svg'\n",
    "%%opts VLine (lw=0.5) HLine (lw=0.5, color='g')\n",
    "%%opts Layout [vspace=.35 aspect_weight=1 sublabel_position=(-0.3, 0.9) sublabel_format='({alpha})' sublabel_size=13]\n",
    "%%opts Overlay [yticks=3 aspect=1.5 vspace=0.]\n",
    "\n",
    "E_dim = hv.Dimension(('E_k0', r'$E(k=0)$'), unit='meV')\n",
    "spectrum = hv.Path((mus, Es), kdims=[dimensions.mu, E_dim])\n",
    "ind_E = 100\n",
    "idx = np.argsort(np.min(np.abs(Es), axis=1))\n",
    "VPoints = hv.Points([(mus[ind_E], E) for E in Es[ind_E]])\n",
    "p.mu = 0\n",
    "phase_bounds = np.sort(find_phase_bounds(lead, p, (1, 0, 0), num_bands=40).real)[::2]\n",
    "HPoints = hv.Points([(x, 0) for x in phase_bounds if x > 0])(style={'color': 'g'})\n",
    "ev_plot = (spectrum * hv.VLine(mus[ind_E]) * VPoints * HPoints * hv.HLine(0))[:35, -10:10]\n",
    "\n",
    "bool_array = np.array(np.digitize(mus, phase_bounds)%2, dtype=bool)\n",
    "\n",
    "gaps_plot = (spectrum\n",
    "             * hv.Area((mus, np.array(gaps) * bool_array))(style={'facecolor': '#FF6700'})\n",
    "             * hv.Area((mus, np.array(gaps) * ~bool_array))(style={'facecolor': '#a9a9a9'})\n",
    "             * hv.HLine(0) * HPoints)\n",
    "\n",
    "gaps_plot = gaps_plot.map(lambda x: x.clone(extents=(0, 0, 35, 0.2)), [hv.Element])\n",
    "\n",
    "ev_problem = (ev_plot[:, -8:8](plot={'xticks':[(0, ''), (8, ''), (16, ''), (24, ''), (32, '')],\n",
    "                                     'final_hooks': [tick_marks, hide_x]}) + \n",
    "              gaps_plot(plot={'xticks': 5, 'final_hooks': [tick_marks]})).cols(1)\n",
    "ev_problem"
   ]
  },
  {
   "cell_type": "code",
   "execution_count": null,
   "metadata": {
    "collapsed": true
   },
   "outputs": [],
   "source": [
    "# renderer.save(ev_problem, 'paper/figures/ev_problem', fmt='pdf')"
   ]
  }
 ],
 "metadata": {
  "kernelspec": {
   "display_name": "Python 3",
   "language": "python",
   "name": "python3"
  },
  "language_info": {
   "codemirror_mode": {
    "name": "ipython",
    "version": 3
   },
   "file_extension": ".py",
   "mimetype": "text/x-python",
   "name": "python",
   "nbconvert_exporter": "python",
   "pygments_lexer": "ipython3",
   "version": "3.5.1"
  }
 },
 "nbformat": 4,
 "nbformat_minor": 0
}
