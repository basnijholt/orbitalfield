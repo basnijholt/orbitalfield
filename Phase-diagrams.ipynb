{
 "cells": [
  {
   "cell_type": "markdown",
   "metadata": {},
   "source": [
    "# Phase diagram for multiple angles"
   ]
  },
  {
   "cell_type": "markdown",
   "metadata": {},
   "source": [
    "Start a `ipcluster` from the Cluster tab in Jupyter or use the command:\n",
    "\n",
    "```ipcluster start``` \n",
    "\n",
    "in a terminal."
   ]
  },
  {
   "cell_type": "code",
   "execution_count": null,
   "metadata": {
    "collapsed": false
   },
   "outputs": [],
   "source": [
    "from ipyparallel import Client\n",
    "cluster = Client()\n",
    "dview = cluster[:]\n",
    "dview.use_dill()\n",
    "lview = cluster.load_balanced_view()\n",
    "len(dview)"
   ]
  },
  {
   "cell_type": "markdown",
   "metadata": {},
   "source": [
    "This next cell is for internal use with our cluster at the department, a local ipcluster will work: use the cell above. "
   ]
  },
  {
   "cell_type": "code",
   "execution_count": null,
   "metadata": {
    "collapsed": false
   },
   "outputs": [],
   "source": [
    "# import os\n",
    "# from scripts.hpc05 import HPC05Client\n",
    "# os.environ['SSH_AUTH_SOCK'] = os.path.join(os.path.expanduser('~'), 'ssh-agent.socket')\n",
    "# cluster = HPC05Client()"
   ]
  },
  {
   "cell_type": "markdown",
   "metadata": {},
   "source": [
    "# Make sure to add the correct path like:\n",
    "\n",
    "    sys.path.append(\"/path/where/to/ipynb/runs\")"
   ]
  },
  {
   "cell_type": "code",
   "execution_count": null,
   "metadata": {
    "collapsed": false,
    "scrolled": true
   },
   "outputs": [],
   "source": [
    "%%px --local\n",
    "import sys\n",
    "import os\n",
    "# CHANGE THE LINE BELOW INTO THE CORRECT FOLDER!\n",
    "sys.path.append(os.path.join(os.path.expanduser('~'), 'orbitalfield'))\n",
    "import kwant\n",
    "import numpy as np\n",
    "from fun import *\n",
    "\n",
    "def gap_and_decay(lead, p, val, tol=1e-4):\n",
    "    gap = find_gap(lead, p, val, tol)\n",
    "    decay_length = find_decay_length(lead, p, val)\n",
    "    return gap, decay_length"
   ]
  },
  {
   "cell_type": "code",
   "execution_count": null,
   "metadata": {
    "collapsed": false
   },
   "outputs": [],
   "source": [
    "import holoviews as hv\n",
    "import holoviews_rc\n",
    "hv.notebook_extension()"
   ]
  },
  {
   "cell_type": "markdown",
   "metadata": {},
   "source": [
    "Uncomment the lines for the wire that you want to use."
   ]
  },
  {
   "cell_type": "code",
   "execution_count": null,
   "metadata": {
    "collapsed": false
   },
   "outputs": [],
   "source": [
    "%%px --local\n",
    "# angle = 0 # WIRE WITH SC ON TOP\n",
    "\n",
    "angle = 45 # WIRE WITH SC ON SIDE\n",
    "p = make_params(t_interface=7/8*constants.t, Delta=68.4, r1=50, r2=70, \n",
    "                orbital=True, angle=angle, A_correction=True, alpha=100) #r2=70\n",
    "\n",
    "p.V = lambda x, y, z: 2 / 50 * z\n",
    "lead = make_3d_wire_external_sc(a=constants.a, r1=p.r1, r2=p.r2, angle=p.angle)\n",
    "\n",
    "# WIRE WITH CONSTANT GAP\n",
    "# lead = make_3d_wire()\n",
    "# p = make_params(V=lambda x, y, z: 0, orbital=True)"
   ]
  },
  {
   "cell_type": "markdown",
   "metadata": {},
   "source": [
    "You can specify the angles that you want to calculate in `thetas` and `phis`.\n",
    "\n",
    "Also specify the range of magnetic field and chemical potential in `Bs` and `mu_mesh`."
   ]
  },
  {
   "cell_type": "code",
   "execution_count": null,
   "metadata": {
    "collapsed": false
   },
   "outputs": [],
   "source": [
    "# give an array of angles that you want to use\n",
    "\n",
    "# thetas = np.array([0, np.tan(1/10), 0.5 * np.pi - np.tan(1/10), 0.5 * np.pi])\n",
    "# phis = np.array([0, np.tan(1/10), 0.5 * np.pi - np.tan(1/10), 0.5 * np.pi])\n",
    "\n",
    "thetas = np.array([0.5 * np.pi])\n",
    "phis = np.array([0])\n",
    "\n",
    "# the range of magnetic field and chemical potential\n",
    "Bs = np.linspace(0, 2, 400)\n",
    "mu_mesh = np.linspace(0, 35, 400)"
   ]
  },
  {
   "cell_type": "code",
   "execution_count": null,
   "metadata": {
    "collapsed": false,
    "scrolled": false
   },
   "outputs": [],
   "source": [
    "# creates a 3D array with all values of magnetic field for all specified angles\n",
    "pos = spherical_coords(Bs.reshape(-1, 1, 1), thetas.reshape(1, -1, 1), phis.reshape(1, 1, -1))\n",
    "pos_vec = pos.reshape(-1, 3)\n",
    "\n",
    "mus_output = lview.map_sync(lambda B: find_phase_bounds(lead, p, B, num_bands=40), pos_vec)\n",
    "mus, vals, mask = create_mask(Bs, thetas, phis, mu_mesh, mus_output)\n",
    "\n",
    "N = len(vals)\n",
    "step = N // (len(phis) * len(thetas))\n",
    "print(N, step)"
   ]
  },
  {
   "cell_type": "markdown",
   "metadata": {},
   "source": [
    "# Check whether the correct angles were used and see the phase boundaries"
   ]
  },
  {
   "cell_type": "code",
   "execution_count": null,
   "metadata": {
    "collapsed": false
   },
   "outputs": [],
   "source": [
    "import holoviews_rc\n",
    "from itertools import product\n",
    "from math import pi\n",
    "\n",
    "kwargs = {'kdims': [dimensions.B, dimensions.mu],\n",
    "          'extents': bnds(Bs, mu_mesh),\n",
    "          'label': 'Topological boundaries',\n",
    "          'group': 'Lines'}\n",
    "\n",
    "angles = list(product(enumerate(phis), enumerate(thetas)))\n",
    "\n",
    "boundaries = {(theta / pi, phi / pi): hv.Path((Bs, mus[i, j, :, ::2]), **kwargs)\n",
    "                  for (i, phi), (j, theta) in angles}\n",
    "\n",
    "BlochSpherePlot.bgcolor = 'white'\n",
    "\n",
    "sphere = {(theta / pi, phi / pi): BlochSphere([[1, 0, 0], spherical_coords(1, theta, phi)], group='Sphere')\n",
    "              for (i, phi), (j, theta) in angles}\n",
    "\n",
    "hv.HoloMap(boundaries, **dimensions.angles) + hv.HoloMap(sphere, **dimensions.angles)"
   ]
  },
  {
   "cell_type": "markdown",
   "metadata": {},
   "source": [
    "# Calculate full phase diagram"
   ]
  },
  {
   "cell_type": "markdown",
   "metadata": {},
   "source": [
    "Make sure `tempdata` exists in the current folder. \n",
    "\n",
    "Set `full_phase_diagram` to `False` if you only want the band gap in the non-trivial region or `True` if you want it in the whole `Bs, mu_mesh` range."
   ]
  },
  {
   "cell_type": "code",
   "execution_count": null,
   "metadata": {
    "collapsed": true
   },
   "outputs": [],
   "source": [
    "full_phase_diagram = False"
   ]
  },
  {
   "cell_type": "markdown",
   "metadata": {},
   "source": [
    "The next cell calculates the gaps and decay lengths.\n",
    "\n",
    "You can stop and rerun the code, it will skip over the files that already exist.\n",
    "\n",
    "Make sure the folder `tempdata/` exists."
   ]
  },
  {
   "cell_type": "code",
   "execution_count": null,
   "metadata": {
    "collapsed": false,
    "scrolled": true
   },
   "outputs": [],
   "source": [
    "import os.path\n",
    "import sys\n",
    "\n",
    "fname_list = []\n",
    "for i, n in enumerate(range(0, N, step)):\n",
    "    fname = \"tempdata/\" + str(n)+\"-\"+str((i+1)*step)+\".dat\"\n",
    "    fname_list.append(fname)\n",
    "    \n",
    "    if not os.path.isfile(fname):  # check if file already exists\n",
    "        lview.results.clear()\n",
    "        cluster.results.clear()\n",
    "        cluster.metadata.clear()\n",
    "        print(fname)\n",
    "        sys.stdout.flush()\n",
    "        if full_phase_diagram:\n",
    "            gaps_and_decays_output = lview.map_async(lambda val: gap_and_decay(lead, p, val[:-1] + (True,)), vals[n:(i+1) * step])\n",
    "        else:\n",
    "            gaps_and_decays_output = lview.map_async(lambda val: gap_and_decay(lead, p, val), vals[n:(i+1) * step])\n",
    "        gaps_and_decays_output.wait_interactive()\n",
    "        np.savetxt(fname, gaps_and_decays_output.result())\n",
    "        print(n, (i+1) * step)\n",
    "cluster.shutdown(hub=True)\n",
    "\n",
    "gaps_and_decay_output = np.vstack([np.loadtxt(fname) for fname in fname_list])\n",
    "gaps_output, decay_length_output = np.array(gaps_and_decay_output).T\n",
    "\n",
    "gaps = np.array(gaps_output).reshape(mask.shape)\n",
    "gaps[1:, 0] = gaps[0, 0]\n",
    "\n",
    "decay_lengths = np.array(decay_length_output).reshape(mask.shape)\n",
    "decay_lengths[1:, 0] = decay_lengths[0, 0]\n",
    "\n",
    "if full_phase_diagram:\n",
    "    gaps = gaps*(mask*2 - 1)\n",
    "    decay_lengths = decay_lengths*(mask*2 - 1)\n",
    "    gaps_output = gaps.reshape(-1)\n",
    "    decay_length_output = decay_lengths.reshape(-1)"
   ]
  },
  {
   "cell_type": "markdown",
   "metadata": {},
   "source": [
    "# Save\n",
    "Run this function to save the data to `hdf5` format, it will include all data and parameters that are used in the simulation."
   ]
  },
  {
   "cell_type": "code",
   "execution_count": null,
   "metadata": {
    "collapsed": false
   },
   "outputs": [],
   "source": [
    "fname = 'data/test.h5'\n",
    "save_data(fname, Bs, thetas, phis, mu_mesh, mus_output, gaps_output, decay_length_output, p, constants)"
   ]
  },
  {
   "cell_type": "markdown",
   "metadata": {},
   "source": [
    "# Check how the phase diagram looks\n",
    "This will show all data."
   ]
  },
  {
   "cell_type": "code",
   "execution_count": null,
   "metadata": {
    "collapsed": false
   },
   "outputs": [],
   "source": [
    "%%output size=200\n",
    "%%opts Image [colorbar=False] {+axiswise} (clims=(0, 0.1))\n",
    "phase_diagram = create_holoviews(fname)\n",
    "\n",
    "(phase_diagram.Phase_diagram.Band_gap.hist()\n",
    " + phase_diagram.Phase_diagram.Inverse_decay_length \n",
    " + phase_diagram.Sphere.I).cols(2)"
   ]
  },
  {
   "cell_type": "code",
   "execution_count": null,
   "metadata": {
    "collapsed": false
   },
   "outputs": [],
   "source": [
    "%%opts Image [colorbar=True]\n",
    "phase_diagram.Phase_diagram.Band_gap"
   ]
  },
  {
   "cell_type": "code",
   "execution_count": null,
   "metadata": {
    "collapsed": false
   },
   "outputs": [],
   "source": [
    "phase_diagram.cdims"
   ]
  }
 ],
 "metadata": {
  "kernelspec": {
   "display_name": "Python 3",
   "language": "python",
   "name": "python3"
  },
  "language_info": {
   "codemirror_mode": {
    "name": "ipython",
    "version": 3
   },
   "file_extension": ".py",
   "mimetype": "text/x-python",
   "name": "python",
   "nbconvert_exporter": "python",
   "pygments_lexer": "ipython3",
   "version": "3.5.1"
  }
 },
 "nbformat": 4,
 "nbformat_minor": 0
}
