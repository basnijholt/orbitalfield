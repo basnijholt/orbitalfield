{
 "cells": [
  {
   "cell_type": "markdown",
   "metadata": {},
   "source": [
    "Start a `ipcluster` from the Cluster tab in Jupyter or use the command:\n",
    "\n",
    "```ipcluster start``` \n",
    "\n",
    "in a terminal."
   ]
  },
  {
   "cell_type": "code",
   "execution_count": null,
   "metadata": {
    "collapsed": false
   },
   "outputs": [],
   "source": [
    "# import os\n",
    "# from scripts.hpc05 import HPC05Client\n",
    "# os.environ['SSH_AUTH_SOCK'] = os.path.join(os.path.expanduser('~'), 'ssh-agent.socket')\n",
    "# cluster = HPC05Client()"
   ]
  },
  {
   "cell_type": "code",
   "execution_count": null,
   "metadata": {
    "collapsed": false
   },
   "outputs": [],
   "source": [
    "from ipyparallel import Client\n",
    "cluster = Client()\n",
    "v = cluster[:]\n",
    "lview = cluster.load_balanced_view()\n",
    "len(v)"
   ]
  },
  {
   "cell_type": "markdown",
   "metadata": {},
   "source": [
    "# Make sure to add the correct path like:\n",
    "\n",
    "    sys.path.append(\"/path/where/to/ipynb/runs\")\n",
    "    \n",
    "The code currently assumes the scripts live in `~/orbitalfield/`."
   ]
  },
  {
   "cell_type": "code",
   "execution_count": null,
   "metadata": {
    "collapsed": false
   },
   "outputs": [],
   "source": [
    "%%px --local\n",
    "import numpy as np\n",
    "import sys\n",
    "import os\n",
    "sys.path.append(os.path.join(os.path.expanduser('~'), 'orbitalfield'))\n",
    "from fun import *\n",
    "from fun2 import *\n",
    "def evs(lead, p):\n",
    "    h0 = lead.cell_hamiltonian(args=[p])\n",
    "    t0 = lead.inter_cell_hopping(args=[p])\n",
    "    ham = h0 + t0 + t0.conj().T\n",
    "    ev = np.linalg.eigvalsh(ham)\n",
    "    return np.abs(ev).min()"
   ]
  },
  {
   "cell_type": "code",
   "execution_count": null,
   "metadata": {
    "collapsed": false
   },
   "outputs": [],
   "source": [
    "import holoviews as hv\n",
    "from itertools import product\n",
    "hv.notebook_extension()\n",
    "%opts Contours (linewidth=1 color='k') [aspect='square']\n",
    "%output size=100 dpi=100"
   ]
  },
  {
   "cell_type": "markdown",
   "metadata": {},
   "source": [
    "Uncomment the lines for the wire that you want to use."
   ]
  },
  {
   "cell_type": "code",
   "execution_count": null,
   "metadata": {
    "collapsed": false
   },
   "outputs": [],
   "source": [
    "%%px --local \n",
    "constants.a = 10\n",
    "p = make_params(t_interface=7/8*constants.t, Delta=68.4, r1=50, r2=70, \n",
    "                phi=135, orbital=True, A_correction=False) #r2=70\n",
    "p.V = lambda x, y, z: 2 / 50 * z\n",
    "\n",
    "# p.angle = 0 # WIRE WITH SC ON TOP\n",
    "p.angle = 45 # WIRE WITH SC ON SIDE\n",
    "lead = make_3d_wire_external_sc(a=constants.a, r1=p.r1, r2=p.r2, angle=p.angle, phi=p.phi)"
   ]
  },
  {
   "cell_type": "markdown",
   "metadata": {},
   "source": [
    "You can specify the intervals of $\\mu$ and $\\Delta$ that you want to check."
   ]
  },
  {
   "cell_type": "code",
   "execution_count": null,
   "metadata": {
    "collapsed": false
   },
   "outputs": [],
   "source": [
    "mus = np.linspace(0, 20, 100)\n",
    "deltas = np.linspace(60, 80, 50)\n",
    "vals = list(product(deltas, mus))\n",
    "v.scatter('vals', vals)\n",
    "%px res = [evs(lead, p) for p.Delta, p.mu in vals]\n",
    "res = np.reshape(v.gather('res', block=True), (len(deltas), len(mus)))"
   ]
  },
  {
   "cell_type": "markdown",
   "metadata": {},
   "source": [
    "Run the next cell and use the slider to find the correct $\\Delta$."
   ]
  },
  {
   "cell_type": "code",
   "execution_count": null,
   "metadata": {
    "collapsed": false
   },
   "outputs": [],
   "source": [
    "Delta_ind = {delta: hv.Contours((mus, evs), kdims=[dimensions.mu, dimensions.delta_ind]) \n",
    "      for evs, delta in zip(res, deltas)}\n",
    "\n",
    "hm = hv.HoloMap(Delta_ind, kdims=[dimensions.delta])\n",
    "hm.select(mu=(0, 20), **{'$\\Delta_{ind}$': (0.2, 10)}) * hv.HLine(0.25)"
   ]
  },
  {
   "cell_type": "markdown",
   "metadata": {},
   "source": [
    "As you can see $\\Delta=68.4$ meV is the parameter we need with the superconductor on the side if we want $\\Delta_{ind}$."
   ]
  },
  {
   "cell_type": "code",
   "execution_count": null,
   "metadata": {
    "collapsed": false
   },
   "outputs": [],
   "source": [
    "delta = 68.4\n",
    "chosen_curve = Delta_ind[nearest(deltas, delta)].select(mu=(4, 6), **{'$\\Delta_{ind}$': (0.23, 0.28)})\n",
    "(chosen_curve * hv.HLine(0.25)).relabel(r'$\\Delta={}$ meV, $t_s=7/8t$'.format(delta))"
   ]
  }
 ],
 "metadata": {
  "kernelspec": {
   "display_name": "Python 3",
   "language": "python",
   "name": "python3"
  },
  "language_info": {
   "codemirror_mode": {
    "name": "ipython",
    "version": 3
   },
   "file_extension": ".py",
   "mimetype": "text/x-python",
   "name": "python",
   "nbconvert_exporter": "python",
   "pygments_lexer": "ipython3",
   "version": "3.5.1"
  }
 },
 "nbformat": 4,
 "nbformat_minor": 0
}
